{
  "nbformat": 4,
  "nbformat_minor": 0,
  "metadata": {
    "colab": {
      "provenance": [],
      "include_colab_link": true
    },
    "kernelspec": {
      "name": "python3",
      "display_name": "Python 3"
    },
    "language_info": {
      "name": "python"
    }
  },
  "cells": [
    {
      "cell_type": "markdown",
      "metadata": {
        "id": "view-in-github",
        "colab_type": "text"
      },
      "source": [
        "<a href=\"https://colab.research.google.com/github/irfanharis31/Heart-disease-prediction/blob/main/Copy_of_heart_disease_prediction.ipynb\" target=\"_parent\"><img src=\"https://colab.research.google.com/assets/colab-badge.svg\" alt=\"Open In Colab\"/></a>"
      ]
    },
    {
      "cell_type": "markdown",
      "source": [
        "### Heart Disease"
      ],
      "metadata": {
        "id": "B2lmofX-zyjS"
      }
    },
    {
      "cell_type": "markdown",
      "source": [
        "### Importing Libraries"
      ],
      "metadata": {
        "id": "5ld5o8FRfmyq"
      }
    },
    {
      "cell_type": "code",
      "execution_count": null,
      "metadata": {
        "id": "gP20lxmdYRhJ"
      },
      "outputs": [],
      "source": [
        "import numpy as np\n",
        "import pandas as pd\n",
        "import matplotlib.pyplot as plt\n",
        "import seaborn as sns\n",
        "import warnings\n",
        "warnings.filterwarnings('ignore')\n",
        "from sklearn import preprocessing"
      ]
    },
    {
      "cell_type": "code",
      "source": [
        "from google.colab import drive\n",
        "drive.mount('/content/drive')"
      ],
      "metadata": {
        "id": "hyUjXSRhVDdG"
      },
      "execution_count": null,
      "outputs": []
    },
    {
      "cell_type": "markdown",
      "source": [
        "### Importing Dataset\n"
      ],
      "metadata": {
        "id": "VThRhTkjf1rc"
      }
    },
    {
      "cell_type": "code",
      "source": [
        "data=pd.read_csv('/content/drive/MyDrive/Heart_Disease_Prediction.csv')"
      ],
      "metadata": {
        "id": "g98b_LCeY-fp"
      },
      "execution_count": null,
      "outputs": []
    },
    {
      "cell_type": "markdown",
      "source": [
        "### Checking For Duplicates\n",
        "\n"
      ],
      "metadata": {
        "id": "fFBaSpkGgN7I"
      }
    },
    {
      "cell_type": "code",
      "source": [
        "data[data.duplicated()]"
      ],
      "metadata": {
        "id": "J1mBB2ObZZnP"
      },
      "execution_count": null,
      "outputs": []
    },
    {
      "cell_type": "code",
      "source": [
        "data = data.rename(columns={'Heart Disease': 'heartdisease'})"
      ],
      "metadata": {
        "id": "MNo7NYUGb1BU"
      },
      "execution_count": null,
      "outputs": []
    },
    {
      "cell_type": "code",
      "source": [
        "data['heartdisease']=data['heartdisease'].map({'Presence':1,'Absence':0})"
      ],
      "metadata": {
        "id": "UY3OTq6rbAhh"
      },
      "execution_count": null,
      "outputs": []
    },
    {
      "cell_type": "markdown",
      "source": [
        "### Data Analysis"
      ],
      "metadata": {
        "id": "cRpP1_NWgA9C"
      }
    },
    {
      "cell_type": "code",
      "source": [
        "data.shape"
      ],
      "metadata": {
        "id": "lKs7_wPtZPEJ"
      },
      "execution_count": null,
      "outputs": []
    },
    {
      "cell_type": "code",
      "source": [
        "data.info()"
      ],
      "metadata": {
        "id": "H_nMm48rZS_9"
      },
      "execution_count": null,
      "outputs": []
    },
    {
      "cell_type": "code",
      "source": [
        "data.columns"
      ],
      "metadata": {
        "id": "CpQ5L7ji2oBb"
      },
      "execution_count": null,
      "outputs": []
    },
    {
      "cell_type": "code",
      "source": [
        "data.describe()"
      ],
      "metadata": {
        "id": "VtOLPb2FcoQI"
      },
      "execution_count": null,
      "outputs": []
    },
    {
      "cell_type": "code",
      "source": [
        "data.head()"
      ],
      "metadata": {
        "id": "6Rzpf-sTZwez"
      },
      "execution_count": null,
      "outputs": []
    },
    {
      "cell_type": "code",
      "source": [
        "data.tail()"
      ],
      "metadata": {
        "id": "PTyjyGZ5Zyrl"
      },
      "execution_count": null,
      "outputs": []
    },
    {
      "cell_type": "markdown",
      "source": [
        "### Pre-Processing"
      ],
      "metadata": {
        "id": "THHJmpfQ0X2X"
      }
    },
    {
      "cell_type": "code",
      "source": [
        "data.isnull().sum() #checking for total null values"
      ],
      "metadata": {
        "id": "DJK3cUR8dJsb"
      },
      "execution_count": null,
      "outputs": []
    },
    {
      "cell_type": "code",
      "source": [
        "data[\"Cholesterol\"].value_counts()"
      ],
      "metadata": {
        "id": "WcesuezJZ5xO"
      },
      "execution_count": null,
      "outputs": []
    },
    {
      "cell_type": "code",
      "source": [
        "data[\"heartdisease\"].value_counts()"
      ],
      "metadata": {
        "id": "ZxIMp8f3a7gp"
      },
      "execution_count": null,
      "outputs": []
    },
    {
      "cell_type": "code",
      "source": [
        "# See the min, max, mean values\n",
        "print('The highest cholestrol was of:',data['Cholesterol'].max())\n",
        "print('The lowest cholestrol was of:',data['Cholesterol'].min())\n",
        "print('The average cholestrol in the data:',data['Cholesterol'].mean())"
      ],
      "metadata": {
        "id": "LlyMUNXzcHI1"
      },
      "execution_count": null,
      "outputs": []
    },
    {
      "cell_type": "markdown",
      "source": [
        "### Data Visualization in form of graphs"
      ],
      "metadata": {
        "id": "4utoiwO5zIVk"
      }
    },
    {
      "cell_type": "code",
      "source": [
        "fig,(ax1,ax2)=plt.subplots(1,2,figsize=(13,5))\n",
        "data_len=data[data['heartdisease']==1]['Cholesterol'].value_counts()\n",
        "\n",
        "ax1.hist(data_len,color='red')\n",
        "ax1.set_title('Having heart disease')\n",
        "\n",
        "data_len=data[data['heartdisease']==0]['Cholesterol'].value_counts()\n",
        "ax2.hist(data_len,color='green')\n",
        "ax2.set_title('NOT heart disease')\n",
        "\n",
        "fig.suptitle('Heart Disease')\n",
        "plt.show()"
      ],
      "metadata": {
        "id": "HMt_poNEcf8T"
      },
      "execution_count": null,
      "outputs": []
    },
    {
      "cell_type": "code",
      "source": [
        "# visualization\n",
        "plt.plot(data['BP'])\n",
        "plt.xlabel(\"BP\")\n",
        "plt.ylabel(\"Levels\")\n",
        "plt.title(\"BP Line Plot\")\n",
        "plt.show()"
      ],
      "metadata": {
        "id": "de2tBMKKi2z9"
      },
      "execution_count": null,
      "outputs": []
    },
    {
      "cell_type": "code",
      "source": [
        "# visualization\n",
        "plt.plot(data['Cholesterol'])\n",
        "plt.xlabel(\"Cholesterol\")\n",
        "plt.ylabel(\"Levels\")\n",
        "plt.title(\"Cholesterol\")\n",
        "plt.show()"
      ],
      "metadata": {
        "id": "RpqdX5cWjAoV"
      },
      "execution_count": null,
      "outputs": []
    },
    {
      "cell_type": "markdown",
      "source": [
        "### Normalization"
      ],
      "metadata": {
        "id": "07bNVvOkzVRP"
      }
    },
    {
      "cell_type": "code",
      "source": [
        "data[1:5]"
      ],
      "metadata": {
        "id": "aKzboqtGdOcr"
      },
      "execution_count": null,
      "outputs": []
    },
    {
      "cell_type": "code",
      "source": [
        "from sklearn import preprocessing\n",
        "import pandas as pd\n",
        "\n",
        "d = preprocessing.normalize(data.iloc[:,1:5], axis=0)\n",
        "scaled_df = pd.DataFrame(d, columns=[\"Age\", \"BP\", \"Cholesterol\", \"Sex\"])\n",
        "scaled_df.head()"
      ],
      "metadata": {
        "id": "8E2_QLq6dRUX"
      },
      "execution_count": null,
      "outputs": []
    },
    {
      "cell_type": "code",
      "source": [
        "from sklearn.model_selection import train_test_split #training and testing data split\n",
        "from sklearn import metrics #accuracy measure\n",
        "from sklearn.metrics import confusion_matrix\n",
        "from sklearn.preprocessing import StandardScaler\n",
        "from sklearn.metrics import mean_squared_error, mean_absolute_error, r2_score,accuracy_score, classification_report #for confusion matrix\n",
        "from sklearn.linear_model import LogisticRegression,LinearRegression #logistic regression"
      ],
      "metadata": {
        "id": "VCk16CmHdh9T"
      },
      "execution_count": null,
      "outputs": []
    },
    {
      "cell_type": "markdown",
      "source": [
        "### Split into train and test in the ratio 70:30"
      ],
      "metadata": {
        "id": "Nf0PDtm2zbgo"
      }
    },
    {
      "cell_type": "code",
      "source": [
        "train,test=train_test_split(data,test_size=0.3,random_state=42,stratify=data['heartdisease'])\n",
        "train_X=train[train.columns[:-1]]\n",
        "train_Y=train[train.columns[-1:]]\n",
        "test_X=test[test.columns[:-1]]\n",
        "test_Y=test[test.columns[-1:]]\n",
        "X=data[data.columns[:-1]]\n",
        "Y=data['heartdisease']\n",
        "len(train_X), len(train_Y), len(test_X), len(test_Y)"
      ],
      "metadata": {
        "id": "Zv5YCk3QdmfT"
      },
      "execution_count": null,
      "outputs": []
    },
    {
      "cell_type": "code",
      "source": [
        "model = LogisticRegression(C=0.1, penalty='l2')\n",
        "model.fit(train_X,train_Y)\n",
        "prediction3=model.predict(test_X)\n",
        "print('The accuracy of the Logistic Regression is',metrics.accuracy_score(prediction3,test_Y))\n",
        "report = classification_report(test_Y, prediction3)\n",
        "print(\"Classification Report:\\n\", report)"
      ],
      "metadata": {
        "id": "yU0EfWaUdwdp"
      },
      "execution_count": null,
      "outputs": []
    },
    {
      "cell_type": "code",
      "source": [
        "import matplotlib.pyplot as plt\n",
        "import numpy as np\n",
        "\n",
        "# Replace these values with your actual scores\n",
        "precision = [0.95, 0.87]\n",
        "recall = [0.89, 0.94]\n",
        "f1_score = [0.92, 0.91]\n",
        "\n",
        "labels = ['Class 0', 'Class 1']\n",
        "\n",
        "# Plotting the bar chart\n",
        "width = 0.2\n",
        "x = np.arange(len(labels))\n",
        "\n",
        "fig, ax = plt.subplots()\n",
        "rects1 = ax.bar(x - width, precision, width, label='Precision')\n",
        "rects2 = ax.bar(x, recall, width, label='Recall')\n",
        "rects3 = ax.bar(x + width, f1_score, width, label='F1-Score')\n",
        "\n",
        "# Adding labels, title, and legend\n",
        "ax.set_ylabel('Scores')\n",
        "ax.set_title('Logistic Regression Model Evaluation Metrics')\n",
        "ax.set_xticks(x)\n",
        "ax.set_xticklabels(labels)\n",
        "ax.legend()\n",
        "\n",
        "# Display the plot\n",
        "plt.show()"
      ],
      "metadata": {
        "id": "4GcTqsihftZn"
      },
      "execution_count": null,
      "outputs": []
    },
    {
      "cell_type": "code",
      "source": [
        "print(precision)\n",
        "print(recall)\n",
        "print(f1_score)"
      ],
      "metadata": {
        "id": "Yjjq5QFgZaAH"
      },
      "execution_count": null,
      "outputs": []
    },
    {
      "cell_type": "code",
      "source": [
        "model = LogisticRegression(C=0.1, penalty='l2')\n",
        "model.fit(train_X, train_Y)\n",
        "#accuracy = accuracy_score(test_Y, predictions.round())\n",
        "predictions = model.predict(test_X)\n",
        "mse = mean_squared_error(test_Y, predictions)\n",
        "rmse = mean_squared_error(test_Y, predictions, squared=False)\n",
        "mae = mean_absolute_error(test_Y, predictions)\n",
        "r2 = r2_score(test_Y, predictions)\n",
        "print('The accuracy of Logistic Regression is:', metrics.accuracy_score(predictions,test_Y))\n",
        "print('Mean Squared Error:', mse)\n",
        "print('Root Mean Squared Error:', rmse)\n",
        "print('Mean Absolute Error:', mae)\n",
        "print('R-squared:',r2)"
      ],
      "metadata": {
        "id": "Wnf5AenM542V"
      },
      "execution_count": null,
      "outputs": []
    }
  ]
}